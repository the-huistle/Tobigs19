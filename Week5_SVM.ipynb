{
 "cells": [
  {
   "cell_type": "markdown",
   "id": "9ad88f3e",
   "metadata": {},
   "source": [
    "# Multiclass SVM 구현"
   ]
  },
  {
   "cell_type": "code",
   "execution_count": 1,
   "id": "1ee53277",
   "metadata": {},
   "outputs": [
    {
     "name": "stdout",
     "output_type": "stream",
     "text": [
      "0         setosa\n",
      "1         setosa\n",
      "2         setosa\n",
      "3         setosa\n",
      "4         setosa\n",
      "         ...    \n",
      "145    virginica\n",
      "146    virginica\n",
      "147    virginica\n",
      "148    virginica\n",
      "149    virginica\n",
      "Name: species, Length: 150, dtype: object\n"
     ]
    }
   ],
   "source": [
    "import numpy as np\n",
    "import pandas as pd\n",
    "import matplotlib.pyplot as plt\n",
    "import seaborn as sns\n",
    "from sklearn.svm import SVC\n",
    "from sklearn.model_selection import train_test_split\n",
    "from sklearn.pipeline import Pipeline\n",
    "from sklearn.preprocessing import StandardScaler\n",
    "from sklearn.metrics import accuracy_score\n",
    "\n",
    "#IRIS 데이터 로드\n",
    "iris =  sns.load_dataset('iris') \n",
    "X= iris.iloc[:,:4] #학습할데이터\n",
    "y = iris.iloc[:,-1] #타겟\n",
    "print(y)"
   ]
  },
  {
   "cell_type": "code",
   "execution_count": 14,
   "id": "d1d373b8",
   "metadata": {},
   "outputs": [
    {
     "data": {
      "text/plain": [
       "array(['setosa', 'versicolor', 'virginica'], dtype=object)"
      ]
     },
     "execution_count": 14,
     "metadata": {},
     "output_type": "execute_result"
    }
   ],
   "source": [
    "y.unique()"
   ]
  },
  {
   "cell_type": "code",
   "execution_count": 12,
   "id": "2d257dfc",
   "metadata": {},
   "outputs": [
    {
     "data": {
      "text/html": [
       "<div>\n",
       "<style scoped>\n",
       "    .dataframe tbody tr th:only-of-type {\n",
       "        vertical-align: middle;\n",
       "    }\n",
       "\n",
       "    .dataframe tbody tr th {\n",
       "        vertical-align: top;\n",
       "    }\n",
       "\n",
       "    .dataframe thead th {\n",
       "        text-align: right;\n",
       "    }\n",
       "</style>\n",
       "<table border=\"1\" class=\"dataframe\">\n",
       "  <thead>\n",
       "    <tr style=\"text-align: right;\">\n",
       "      <th></th>\n",
       "      <th>sepal_length</th>\n",
       "      <th>sepal_width</th>\n",
       "      <th>petal_length</th>\n",
       "      <th>petal_width</th>\n",
       "    </tr>\n",
       "  </thead>\n",
       "  <tbody>\n",
       "    <tr>\n",
       "      <th>0</th>\n",
       "      <td>5.1</td>\n",
       "      <td>3.5</td>\n",
       "      <td>1.4</td>\n",
       "      <td>0.2</td>\n",
       "    </tr>\n",
       "    <tr>\n",
       "      <th>1</th>\n",
       "      <td>4.9</td>\n",
       "      <td>3.0</td>\n",
       "      <td>1.4</td>\n",
       "      <td>0.2</td>\n",
       "    </tr>\n",
       "    <tr>\n",
       "      <th>2</th>\n",
       "      <td>4.7</td>\n",
       "      <td>3.2</td>\n",
       "      <td>1.3</td>\n",
       "      <td>0.2</td>\n",
       "    </tr>\n",
       "    <tr>\n",
       "      <th>3</th>\n",
       "      <td>4.6</td>\n",
       "      <td>3.1</td>\n",
       "      <td>1.5</td>\n",
       "      <td>0.2</td>\n",
       "    </tr>\n",
       "    <tr>\n",
       "      <th>4</th>\n",
       "      <td>5.0</td>\n",
       "      <td>3.6</td>\n",
       "      <td>1.4</td>\n",
       "      <td>0.2</td>\n",
       "    </tr>\n",
       "    <tr>\n",
       "      <th>...</th>\n",
       "      <td>...</td>\n",
       "      <td>...</td>\n",
       "      <td>...</td>\n",
       "      <td>...</td>\n",
       "    </tr>\n",
       "    <tr>\n",
       "      <th>145</th>\n",
       "      <td>6.7</td>\n",
       "      <td>3.0</td>\n",
       "      <td>5.2</td>\n",
       "      <td>2.3</td>\n",
       "    </tr>\n",
       "    <tr>\n",
       "      <th>146</th>\n",
       "      <td>6.3</td>\n",
       "      <td>2.5</td>\n",
       "      <td>5.0</td>\n",
       "      <td>1.9</td>\n",
       "    </tr>\n",
       "    <tr>\n",
       "      <th>147</th>\n",
       "      <td>6.5</td>\n",
       "      <td>3.0</td>\n",
       "      <td>5.2</td>\n",
       "      <td>2.0</td>\n",
       "    </tr>\n",
       "    <tr>\n",
       "      <th>148</th>\n",
       "      <td>6.2</td>\n",
       "      <td>3.4</td>\n",
       "      <td>5.4</td>\n",
       "      <td>2.3</td>\n",
       "    </tr>\n",
       "    <tr>\n",
       "      <th>149</th>\n",
       "      <td>5.9</td>\n",
       "      <td>3.0</td>\n",
       "      <td>5.1</td>\n",
       "      <td>1.8</td>\n",
       "    </tr>\n",
       "  </tbody>\n",
       "</table>\n",
       "<p>150 rows × 4 columns</p>\n",
       "</div>"
      ],
      "text/plain": [
       "     sepal_length  sepal_width  petal_length  petal_width\n",
       "0             5.1          3.5           1.4          0.2\n",
       "1             4.9          3.0           1.4          0.2\n",
       "2             4.7          3.2           1.3          0.2\n",
       "3             4.6          3.1           1.5          0.2\n",
       "4             5.0          3.6           1.4          0.2\n",
       "..            ...          ...           ...          ...\n",
       "145           6.7          3.0           5.2          2.3\n",
       "146           6.3          2.5           5.0          1.9\n",
       "147           6.5          3.0           5.2          2.0\n",
       "148           6.2          3.4           5.4          2.3\n",
       "149           5.9          3.0           5.1          1.8\n",
       "\n",
       "[150 rows x 4 columns]"
      ]
     },
     "execution_count": 12,
     "metadata": {},
     "output_type": "execute_result"
    }
   ],
   "source": [
    "X"
   ]
  },
  {
   "cell_type": "code",
   "execution_count": 2,
   "id": "57c67bc8",
   "metadata": {},
   "outputs": [],
   "source": [
    "X_train, X_test, y_train, y_test = train_test_split(X, y, test_size=0.2, random_state=48)"
   ]
  },
  {
   "cell_type": "code",
   "execution_count": 3,
   "id": "88a4203d",
   "metadata": {},
   "outputs": [],
   "source": [
    "def standardization(train, test):\n",
    "    scaler = StandardScaler()\n",
    "    train = scaler.fit_transform(train)\n",
    "    test = scaler.transform(test)\n",
    "    return train, test\n",
    "\n",
    "X_train, X_test = standardization(X_train, X_test)"
   ]
  },
  {
   "cell_type": "code",
   "execution_count": 4,
   "id": "403590f5",
   "metadata": {},
   "outputs": [
    {
     "data": {
      "text/plain": [
       "array([[ 0.78522493,  0.32015325,  0.77221097,  1.04726529],\n",
       "       [-0.26563371, -1.29989934,  0.0982814 , -0.11996537],\n",
       "       [ 0.43493872,  0.78302542,  0.94069336,  1.43634218],\n",
       "       [-0.84944407,  0.78302542, -1.24957775, -1.28719604],\n",
       "       [-0.38239578, -1.7627715 ,  0.15444219,  0.13941922],\n",
       "       [ 0.55170079, -0.374155  ,  1.05301496,  0.7878807 ],\n",
       "       [ 0.31817664, -0.14271892,  0.65988937,  0.7878807 ],\n",
       "       [ 0.20141457, -0.374155  ,  0.43524618,  0.39880381],\n",
       "       [-1.66677857, -0.14271892, -1.36189934, -1.28719604],\n",
       "       [-0.14887164, -0.60559109,  0.21060299,  0.13941922],\n",
       "       [-0.14887164, -1.06846325, -0.12636179, -0.24965767],\n",
       "       [ 0.31817664, -0.60559109,  0.15444219,  0.13941922],\n",
       "       [ 0.66846286, -0.83702717,  0.88453256,  0.91757299],\n",
       "       [ 0.0846525 , -0.14271892,  0.77221097,  0.7878807 ],\n",
       "       [-0.49915786, -0.14271892,  0.43524618,  0.39880381],\n",
       "       [-0.26563371, -0.60559109,  0.65988937,  1.04726529],\n",
       "       [ 2.18636979,  1.70876975,  1.67078373,  1.30664988],\n",
       "       [-0.49915786,  1.94020584, -1.13725615, -1.02781144],\n",
       "       [-0.96620614,  1.0144615 , -1.36189934, -1.15750374],\n",
       "       [ 1.60255943,  0.32015325,  1.27765815,  0.7878807 ],\n",
       "       [-0.84944407,  1.70876975, -1.02493456, -1.02781144],\n",
       "       [ 0.901987  , -0.14271892,  0.37908538,  0.26911151],\n",
       "       [-1.19973028,  0.78302542, -1.02493456, -1.28719604],\n",
       "       [-0.61591993,  1.47733367, -1.24957775, -1.28719604],\n",
       "       [-0.49915786,  1.47733367, -1.24957775, -1.28719604],\n",
       "       [-0.03210957, -0.83702717,  0.77221097,  0.91757299],\n",
       "       [-1.31649236,  0.32015325, -1.19341695, -1.28719604],\n",
       "       [ 1.25227322,  0.08871717,  0.94069336,  1.17695758],\n",
       "       [-1.08296821,  0.08871717, -1.24957775, -1.41688833],\n",
       "       [-1.08296821, -1.29989934,  0.43524618,  0.6581884 ],\n",
       "       [ 0.43493872, -0.374155  ,  0.32292459,  0.13941922],\n",
       "       [ 1.60255943,  1.24589758,  1.33381894,  1.69572677],\n",
       "       [ 0.31817664, -0.374155  ,  0.54756778,  0.26911151],\n",
       "       [ 1.83608357, -0.60559109,  1.33381894,  0.91757299],\n",
       "       [-0.03210957, -0.83702717,  0.0982814 ,  0.00972692],\n",
       "       [ 0.20141457, -1.99420759,  0.71605017,  0.39880381],\n",
       "       [ 1.01874907,  0.08871717,  1.05301496,  1.56603447],\n",
       "       [-0.84944407,  1.0144615 , -1.30573855, -1.15750374],\n",
       "       [-0.14887164, -0.14271892,  0.26676379,  0.00972692],\n",
       "       [-0.38239578, -1.53133542,  0.0421206 , -0.11996537],\n",
       "       [ 0.55170079, -1.29989934,  0.71605017,  0.91757299],\n",
       "       [ 1.48579736, -0.14271892,  1.22149735,  1.17695758],\n",
       "       [-0.38239578, -1.06846325,  0.37908538,  0.00972692],\n",
       "       [-0.96620614, -1.7627715 , -0.23868339, -0.24965767],\n",
       "       [ 1.25227322,  0.08871717,  0.77221097,  1.43634218],\n",
       "       [ 0.66846286, -0.60559109,  1.05301496,  1.17695758],\n",
       "       [ 0.43493872, -1.99420759,  0.43524618,  0.39880381],\n",
       "       [-0.14887164, -0.60559109,  0.43524618,  0.13941922],\n",
       "       [-0.732682  , -0.83702717,  0.0982814 ,  0.26911151],\n",
       "       [ 2.06960772, -0.14271892,  1.61462293,  1.17695758],\n",
       "       [ 1.13551115, -0.60559109,  0.60372857,  0.26911151],\n",
       "       [-0.84944407, -1.29989934, -0.40716578, -0.11996537],\n",
       "       [-0.14887164, -1.29989934,  0.71605017,  1.04726529],\n",
       "       [ 0.66846286, -0.374155  ,  0.32292459,  0.13941922],\n",
       "       [ 1.01874907,  0.08871717,  0.37908538,  0.26911151],\n",
       "       [-0.26563371, -0.83702717,  0.26676379,  0.13941922],\n",
       "       [ 1.25227322,  0.08871717,  0.65988937,  0.39880381],\n",
       "       [-0.84944407,  0.55158933, -1.13725615, -0.89811915],\n",
       "       [-1.08296821, -0.14271892, -1.30573855, -1.28719604],\n",
       "       [ 0.20141457, -0.83702717,  0.77221097,  0.52849611],\n",
       "       [-1.08296821, -1.53133542, -0.23868339, -0.24965767],\n",
       "       [-0.03210957,  2.17164192, -1.41806014, -1.28719604],\n",
       "       [-0.96620614,  1.0144615 , -1.19341695, -0.76842685],\n",
       "       [ 0.55170079, -0.83702717,  0.65988937,  0.7878807 ],\n",
       "       [ 1.7193215 , -0.374155  ,  1.44614054,  0.7878807 ],\n",
       "       [-0.732682  ,  2.403078  , -1.24957775, -1.41688833],\n",
       "       [-0.14887164,  3.09738625, -1.24957775, -1.02781144],\n",
       "       [ 1.13551115, -0.14271892,  0.99685416,  1.17695758],\n",
       "       [-1.43325443,  0.08871717, -1.24957775, -1.28719604],\n",
       "       [-0.03210957, -0.83702717,  0.21060299, -0.24965767],\n",
       "       [ 1.01874907, -0.14271892,  0.82837177,  1.43634218],\n",
       "       [ 1.36903529,  0.32015325,  0.54756778,  0.26911151],\n",
       "       [-0.96620614,  0.32015325, -1.41806014, -1.28719604],\n",
       "       [-0.96620614,  0.78302542, -1.24957775, -1.28719604],\n",
       "       [ 0.55170079,  0.55158933,  1.27765815,  1.69572677],\n",
       "       [ 2.18636979, -0.60559109,  1.67078373,  1.04726529],\n",
       "       [ 0.0846525 , -0.14271892,  0.26676379,  0.39880381],\n",
       "       [-1.31649236,  0.32015325, -1.36189934, -1.28719604],\n",
       "       [ 0.66846286,  0.32015325,  0.88453256,  1.43634218],\n",
       "       [-0.96620614,  0.78302542, -1.19341695, -1.02781144],\n",
       "       [ 0.20141457,  0.78302542,  0.43524618,  0.52849611],\n",
       "       [-1.19973028, -0.14271892, -1.30573855, -1.41688833],\n",
       "       [ 1.01874907,  0.55158933,  1.10917575,  1.17695758],\n",
       "       [ 0.78522493, -0.60559109,  0.49140698,  0.39880381],\n",
       "       [-1.43325443,  1.24589758, -1.53038174, -1.28719604],\n",
       "       [-0.03210957, -0.60559109,  0.77221097,  1.56603447],\n",
       "       [-1.78354064, -0.14271892, -1.47422094, -1.41688833],\n",
       "       [ 1.01874907, -1.29989934,  1.16533655,  0.7878807 ],\n",
       "       [-1.08296821,  1.24589758, -1.30573855, -1.41688833],\n",
       "       [-0.49915786,  1.94020584, -1.36189934, -1.02781144],\n",
       "       [-1.43325443,  0.32015325, -1.30573855, -1.28719604],\n",
       "       [-0.03210957, -0.83702717,  0.77221097,  0.91757299],\n",
       "       [ 0.55170079, -0.60559109,  0.77221097,  0.39880381],\n",
       "       [-0.96620614,  0.55158933, -1.30573855, -1.28719604],\n",
       "       [ 2.41989393,  1.70876975,  1.50230134,  1.04726529],\n",
       "       [-1.66677857,  0.32015325, -1.36189934, -1.28719604],\n",
       "       [-1.19973028, -0.14271892, -1.30573855, -1.15750374],\n",
       "       [ 1.01874907,  0.55158933,  1.10917575,  1.69572677],\n",
       "       [-0.96620614, -2.45707976, -0.12636179, -0.24965767],\n",
       "       [-0.732682  ,  1.0144615 , -1.24957775, -1.28719604],\n",
       "       [ 2.18636979, -1.06846325,  1.78310533,  1.43634218],\n",
       "       [ 1.13551115,  0.32015325,  1.22149735,  1.43634218],\n",
       "       [-0.96620614, -0.14271892, -1.19341695, -1.28719604],\n",
       "       [-0.84944407,  1.47733367, -1.24957775, -1.02781144],\n",
       "       [ 2.18636979, -0.14271892,  1.33381894,  1.43634218],\n",
       "       [-0.14887164,  1.70876975, -1.13725615, -1.15750374],\n",
       "       [-0.26563371, -0.14271892,  0.43524618,  0.39880381],\n",
       "       [-1.19973028,  0.08871717, -1.19341695, -1.28719604],\n",
       "       [ 0.78522493, -0.14271892,  1.16533655,  1.30664988],\n",
       "       [ 0.901987  , -0.374155  ,  0.49140698,  0.13941922],\n",
       "       [-0.732682  ,  0.78302542, -1.30573855, -1.28719604],\n",
       "       [-0.84944407,  1.70876975, -1.19341695, -1.28719604],\n",
       "       [-1.43325443,  0.78302542, -1.30573855, -1.15750374],\n",
       "       [-0.03210957, -1.06846325,  0.15444219,  0.00972692],\n",
       "       [-1.08296821,  0.08871717, -1.24957775, -1.28719604],\n",
       "       [-0.26563371, -0.374155  , -0.070201  ,  0.13941922],\n",
       "       [ 0.31817664, -0.14271892,  0.49140698,  0.26911151],\n",
       "       [-0.38239578, -1.53133542, -0.0140402 , -0.24965767],\n",
       "       [ 0.66846286,  0.32015325,  0.43524618,  0.39880381],\n",
       "       [-0.84944407,  1.0144615 , -1.30573855, -1.28719604]])"
      ]
     },
     "execution_count": 4,
     "metadata": {},
     "output_type": "execute_result"
    }
   ],
   "source": [
    "X_train"
   ]
  },
  {
   "cell_type": "code",
   "execution_count": 5,
   "id": "9861d8a6",
   "metadata": {},
   "outputs": [
    {
     "data": {
      "text/plain": [
       "array([[-0.14887164, -0.374155  ,  0.26676379,  0.13941922],\n",
       "       [ 0.31817664, -0.60559109,  0.54756778,  0.00972692],\n",
       "       [ 0.31817664, -1.06846325,  1.05301496,  0.26911151],\n",
       "       [-1.5500165 , -1.7627715 , -1.36189934, -1.15750374],\n",
       "       [ 0.0846525 ,  0.32015325,  0.60372857,  0.7878807 ],\n",
       "       [ 0.78522493, -0.14271892,  0.99685416,  0.7878807 ],\n",
       "       [-0.84944407,  1.70876975, -1.24957775, -1.15750374],\n",
       "       [ 0.20141457, -0.14271892,  0.60372857,  0.7878807 ],\n",
       "       [-0.38239578,  2.63451409, -1.30573855, -1.28719604],\n",
       "       [-0.38239578, -1.29989934,  0.15444219,  0.13941922],\n",
       "       [ 0.66846286,  0.08871717,  0.99685416,  0.7878807 ],\n",
       "       [-0.38239578,  1.0144615 , -1.36189934, -1.28719604],\n",
       "       [-0.49915786,  0.78302542, -1.13725615, -1.28719604],\n",
       "       [ 0.43493872, -0.60559109,  0.60372857,  0.7878807 ],\n",
       "       [ 0.55170079, -1.7627715 ,  0.37908538,  0.13941922],\n",
       "       [ 0.55170079,  0.55158933,  0.54756778,  0.52849611],\n",
       "       [-1.19973028,  0.78302542, -1.19341695, -1.28719604],\n",
       "       [ 0.20141457, -1.99420759,  0.15444219, -0.24965767],\n",
       "       [ 0.55170079, -1.29989934,  0.65988937,  0.39880381],\n",
       "       [ 1.25227322,  0.32015325,  1.10917575,  1.43634218],\n",
       "       [-1.66677857, -0.374155  , -1.30573855, -1.28719604],\n",
       "       [ 0.78522493, -0.14271892,  0.82837177,  1.04726529],\n",
       "       [ 1.01874907, -0.14271892,  0.71605017,  0.6581884 ],\n",
       "       [ 1.01874907,  0.08871717,  0.54756778,  0.39880381],\n",
       "       [ 1.60255943, -0.14271892,  1.16533655,  0.52849611],\n",
       "       [-0.96620614,  1.24589758, -1.30573855, -1.28719604],\n",
       "       [-0.49915786,  0.78302542, -1.24957775, -1.02781144],\n",
       "       [ 0.55170079,  0.78302542,  1.05301496,  1.56603447],\n",
       "       [ 0.66846286, -0.60559109,  1.05301496,  1.30664988],\n",
       "       [-0.26563371, -0.14271892,  0.21060299,  0.13941922]])"
      ]
     },
     "execution_count": 5,
     "metadata": {},
     "output_type": "execute_result"
    }
   ],
   "source": [
    "X_test"
   ]
  },
  {
   "cell_type": "markdown",
   "id": "45462d0a",
   "metadata": {},
   "source": [
    "[참고) sklearn.multiclass.OneVsRestClassifier](https://scikit-learn.org/stable/modules/generated/sklearn.multiclass.OneVsRestClassifier.html)"
   ]
  },
  {
   "cell_type": "markdown",
   "id": "ddb0336d",
   "metadata": {},
   "source": [
    "## One-hot encoding"
   ]
  },
  {
   "cell_type": "code",
   "execution_count": 10,
   "id": "54d39f7b",
   "metadata": {},
   "outputs": [],
   "source": [
    "X_train_s = pd.DataFrame(X_train)\n",
    "X_test_s = pd.DataFrame(X_test)\n",
    "\n",
    "X_train_s.column = ['']"
   ]
  },
  {
   "cell_type": "code",
   "execution_count": 11,
   "id": "6159a3a3",
   "metadata": {},
   "outputs": [
    {
     "data": {
      "text/html": [
       "<div>\n",
       "<style scoped>\n",
       "    .dataframe tbody tr th:only-of-type {\n",
       "        vertical-align: middle;\n",
       "    }\n",
       "\n",
       "    .dataframe tbody tr th {\n",
       "        vertical-align: top;\n",
       "    }\n",
       "\n",
       "    .dataframe thead th {\n",
       "        text-align: right;\n",
       "    }\n",
       "</style>\n",
       "<table border=\"1\" class=\"dataframe\">\n",
       "  <thead>\n",
       "    <tr style=\"text-align: right;\">\n",
       "      <th></th>\n",
       "      <th>0</th>\n",
       "      <th>1</th>\n",
       "      <th>2</th>\n",
       "      <th>3</th>\n",
       "    </tr>\n",
       "  </thead>\n",
       "  <tbody>\n",
       "    <tr>\n",
       "      <th>0</th>\n",
       "      <td>-0.148872</td>\n",
       "      <td>-0.374155</td>\n",
       "      <td>0.266764</td>\n",
       "      <td>0.139419</td>\n",
       "    </tr>\n",
       "    <tr>\n",
       "      <th>1</th>\n",
       "      <td>0.318177</td>\n",
       "      <td>-0.605591</td>\n",
       "      <td>0.547568</td>\n",
       "      <td>0.009727</td>\n",
       "    </tr>\n",
       "    <tr>\n",
       "      <th>2</th>\n",
       "      <td>0.318177</td>\n",
       "      <td>-1.068463</td>\n",
       "      <td>1.053015</td>\n",
       "      <td>0.269112</td>\n",
       "    </tr>\n",
       "    <tr>\n",
       "      <th>3</th>\n",
       "      <td>-1.550016</td>\n",
       "      <td>-1.762772</td>\n",
       "      <td>-1.361899</td>\n",
       "      <td>-1.157504</td>\n",
       "    </tr>\n",
       "    <tr>\n",
       "      <th>4</th>\n",
       "      <td>0.084653</td>\n",
       "      <td>0.320153</td>\n",
       "      <td>0.603729</td>\n",
       "      <td>0.787881</td>\n",
       "    </tr>\n",
       "  </tbody>\n",
       "</table>\n",
       "</div>"
      ],
      "text/plain": [
       "          0         1         2         3\n",
       "0 -0.148872 -0.374155  0.266764  0.139419\n",
       "1  0.318177 -0.605591  0.547568  0.009727\n",
       "2  0.318177 -1.068463  1.053015  0.269112\n",
       "3 -1.550016 -1.762772 -1.361899 -1.157504\n",
       "4  0.084653  0.320153  0.603729  0.787881"
      ]
     },
     "execution_count": 11,
     "metadata": {},
     "output_type": "execute_result"
    }
   ],
   "source": [
    "X_test_s.head()"
   ]
  },
  {
   "cell_type": "code",
   "execution_count": 16,
   "id": "dedbb3b7",
   "metadata": {},
   "outputs": [
    {
     "data": {
      "text/plain": [
       "110     virginica\n",
       "69     versicolor\n",
       "148     virginica\n",
       "39         setosa\n",
       "53     versicolor\n",
       "          ...    \n",
       "64     versicolor\n",
       "91     versicolor\n",
       "81     versicolor\n",
       "51     versicolor\n",
       "0          setosa\n",
       "Name: species, Length: 120, dtype: object"
      ]
     },
     "execution_count": 16,
     "metadata": {},
     "output_type": "execute_result"
    }
   ],
   "source": [
    "y_train"
   ]
  },
  {
   "cell_type": "code",
   "execution_count": 30,
   "id": "2f922e97",
   "metadata": {},
   "outputs": [
    {
     "data": {
      "text/html": [
       "<div>\n",
       "<style scoped>\n",
       "    .dataframe tbody tr th:only-of-type {\n",
       "        vertical-align: middle;\n",
       "    }\n",
       "\n",
       "    .dataframe tbody tr th {\n",
       "        vertical-align: top;\n",
       "    }\n",
       "\n",
       "    .dataframe thead th {\n",
       "        text-align: right;\n",
       "    }\n",
       "</style>\n",
       "<table border=\"1\" class=\"dataframe\">\n",
       "  <thead>\n",
       "    <tr style=\"text-align: right;\">\n",
       "      <th></th>\n",
       "      <th>setosa</th>\n",
       "      <th>versicolor</th>\n",
       "      <th>virginica</th>\n",
       "    </tr>\n",
       "  </thead>\n",
       "  <tbody>\n",
       "    <tr>\n",
       "      <th>110</th>\n",
       "      <td>0</td>\n",
       "      <td>0</td>\n",
       "      <td>1</td>\n",
       "    </tr>\n",
       "    <tr>\n",
       "      <th>69</th>\n",
       "      <td>0</td>\n",
       "      <td>1</td>\n",
       "      <td>0</td>\n",
       "    </tr>\n",
       "    <tr>\n",
       "      <th>148</th>\n",
       "      <td>0</td>\n",
       "      <td>0</td>\n",
       "      <td>1</td>\n",
       "    </tr>\n",
       "    <tr>\n",
       "      <th>39</th>\n",
       "      <td>1</td>\n",
       "      <td>0</td>\n",
       "      <td>0</td>\n",
       "    </tr>\n",
       "    <tr>\n",
       "      <th>53</th>\n",
       "      <td>0</td>\n",
       "      <td>1</td>\n",
       "      <td>0</td>\n",
       "    </tr>\n",
       "    <tr>\n",
       "      <th>...</th>\n",
       "      <td>...</td>\n",
       "      <td>...</td>\n",
       "      <td>...</td>\n",
       "    </tr>\n",
       "    <tr>\n",
       "      <th>64</th>\n",
       "      <td>0</td>\n",
       "      <td>1</td>\n",
       "      <td>0</td>\n",
       "    </tr>\n",
       "    <tr>\n",
       "      <th>91</th>\n",
       "      <td>0</td>\n",
       "      <td>1</td>\n",
       "      <td>0</td>\n",
       "    </tr>\n",
       "    <tr>\n",
       "      <th>81</th>\n",
       "      <td>0</td>\n",
       "      <td>1</td>\n",
       "      <td>0</td>\n",
       "    </tr>\n",
       "    <tr>\n",
       "      <th>51</th>\n",
       "      <td>0</td>\n",
       "      <td>1</td>\n",
       "      <td>0</td>\n",
       "    </tr>\n",
       "    <tr>\n",
       "      <th>0</th>\n",
       "      <td>1</td>\n",
       "      <td>0</td>\n",
       "      <td>0</td>\n",
       "    </tr>\n",
       "  </tbody>\n",
       "</table>\n",
       "<p>120 rows × 3 columns</p>\n",
       "</div>"
      ],
      "text/plain": [
       "     setosa  versicolor  virginica\n",
       "110       0           0          1\n",
       "69        0           1          0\n",
       "148       0           0          1\n",
       "39        1           0          0\n",
       "53        0           1          0\n",
       "..      ...         ...        ...\n",
       "64        0           1          0\n",
       "91        0           1          0\n",
       "81        0           1          0\n",
       "51        0           1          0\n",
       "0         1           0          0\n",
       "\n",
       "[120 rows x 3 columns]"
      ]
     },
     "execution_count": 30,
     "metadata": {},
     "output_type": "execute_result"
    }
   ],
   "source": [
    "y_train_s = pd.get_dummies(y_train)\n",
    "y_test_s = pd.get_dummies(y_test)\n",
    "\n",
    "y_train_s"
   ]
  },
  {
   "cell_type": "code",
   "execution_count": 38,
   "id": "d2ea4724",
   "metadata": {},
   "outputs": [
    {
     "data": {
      "text/plain": [
       "110    0\n",
       "69     0\n",
       "148    0\n",
       "39     1\n",
       "53     0\n",
       "      ..\n",
       "64     0\n",
       "91     0\n",
       "81     0\n",
       "51     0\n",
       "0      1\n",
       "Name: setosa, Length: 120, dtype: uint8"
      ]
     },
     "execution_count": 38,
     "metadata": {},
     "output_type": "execute_result"
    }
   ],
   "source": [
    "y_train_s.loc[:, 'setosa']"
   ]
  },
  {
   "cell_type": "markdown",
   "id": "8215f0ff",
   "metadata": {},
   "source": [
    "## Training each Binary SVM"
   ]
  },
  {
   "cell_type": "code",
   "execution_count": 54,
   "id": "89573cac",
   "metadata": {},
   "outputs": [
    {
     "data": {
      "text/plain": [
       "array([0, 0, 0, 0, 0, 0, 1, 0, 1, 0, 0, 1, 1, 0, 0, 0, 1, 0, 0, 0, 1, 0,\n",
       "       0, 0, 0, 1, 1, 0, 0, 0], dtype=uint8)"
      ]
     },
     "execution_count": 54,
     "metadata": {},
     "output_type": "execute_result"
    }
   ],
   "source": [
    "from sklearn import metrics #model evaluation하는 라이브러리\n",
    "\n",
    "svc1 = SVC(kernel='rbf', C = 100)\n",
    "svc1.fit(X_train_s,y_train_s.loc[:, 'setosa']) # 모델 트레이닝 하는 코드\n",
    "\n",
    "y_pred1 = svc1.predict(X_test_s) # 훈련한 모델로 test셋을 시험\n",
    "\n",
    "# print('Accuracy Score:') \n",
    "# print(metrics.accuracy_score(y_test_s.loc[:, 'setosa'], y_pred1)) #스코어\n",
    "\n",
    "y_pred1"
   ]
  },
  {
   "cell_type": "code",
   "execution_count": 55,
   "id": "6f6f1094",
   "metadata": {},
   "outputs": [
    {
     "data": {
      "text/plain": [
       "array([1, 1, 0, 1, 0, 0, 0, 0, 0, 1, 0, 0, 0, 0, 1, 1, 0, 1, 1, 0, 0, 0,\n",
       "       0, 1, 0, 0, 0, 0, 0, 1], dtype=uint8)"
      ]
     },
     "execution_count": 55,
     "metadata": {},
     "output_type": "execute_result"
    }
   ],
   "source": [
    "svc2 = SVC(kernel='rbf', C = 100)\n",
    "svc2.fit(X_train_s,y_train_s.loc[:, 'versicolor']) # 모델 트레이닝 하는 코드\n",
    "\n",
    "y_pred2 = svc2.predict(X_test_s) # 훈련한 모델로 test셋을 시험\n",
    "\n",
    "# print('Accuracy Score:') \n",
    "# print(metrics.accuracy_score(y_test_s.loc[:, 'versicolor'], y_pred2)) #스코어\n",
    "\n",
    "y_pred2"
   ]
  },
  {
   "cell_type": "code",
   "execution_count": 56,
   "id": "856353fa",
   "metadata": {},
   "outputs": [
    {
     "data": {
      "text/plain": [
       "array([0, 0, 1, 0, 1, 1, 0, 1, 0, 0, 1, 0, 0, 1, 0, 0, 0, 0, 0, 1, 0, 1,\n",
       "       1, 0, 1, 0, 0, 1, 1, 0], dtype=uint8)"
      ]
     },
     "execution_count": 56,
     "metadata": {},
     "output_type": "execute_result"
    }
   ],
   "source": [
    "svc3 = SVC(kernel='rbf', C = 100)\n",
    "svc3.fit(X_train_s,y_train_s.loc[:, 'virginica']) # 모델 트레이닝 하는 코드\n",
    "\n",
    "y_pred3 = svc3.predict(X_test_s) # 훈련한 모델로 test셋을 시험\n",
    "\n",
    "# print('Accuracy Score:') \n",
    "# print(metrics.accuracy_score(y_test_s.loc[:, 'virginica'], y_pred3)) #스코어\n",
    "\n",
    "y_pred3"
   ]
  },
  {
   "cell_type": "markdown",
   "id": "451f3a1b",
   "metadata": {},
   "source": [
    "## Multiclass SVM"
   ]
  },
  {
   "cell_type": "code",
   "execution_count": 125,
   "id": "1219956e",
   "metadata": {},
   "outputs": [
    {
     "data": {
      "text/plain": [
       "array([1, 1, 2, 1, 2, 2, 0, 2, 0, 1, 2, 0, 0, 2, 1, 1, 0, 1, 1, 2, 0, 2,\n",
       "       2, 1, 2, 0, 0, 2, 2, 1])"
      ]
     },
     "execution_count": 125,
     "metadata": {},
     "output_type": "execute_result"
    }
   ],
   "source": [
    "y_preds = np.zeros(len(y_test), dtype=int)\n",
    "# 클래스별 등장 확률 구하기\n",
    "class_prob = [sum(y_pred1)/len(y_test), sum(y_pred2)/len(y_test), sum(y_pred3)/len(y_test)]\n",
    "\n",
    "# 테스트셋 크기\n",
    "for i in range(len(y_test)):\n",
    "    y_pred = [y_pred1[i], y_pred2[i], y_pred3[i]]\n",
    "    # 모두 1이거나 0일때, 등장 확률이 제일 높은 클래스로 선택\n",
    "    if sum(y_pred) == 0 or sum(y_pred) == 3:\n",
    "        y_preds[i] = np.argmax(class_prob)\n",
    "    \n",
    "    elif sum(y_pred) == 2:\n",
    "        # 결과가 0으로 나온 클래스 제외, 등장 확률이 높은 클래스로 선택\n",
    "        tmp = class_prob.copy()\n",
    "        tmp.pop(y_pred.index(0))\n",
    "        y_preds[i] = np.argmax(tmp)\n",
    "        \n",
    "    else:\n",
    "        y_preds[i] = np.argmax(y_pred)\n",
    "\n",
    "y_preds"
   ]
  },
  {
   "cell_type": "code",
   "execution_count": 127,
   "id": "a7c8e418",
   "metadata": {},
   "outputs": [
    {
     "data": {
      "text/html": [
       "<div>\n",
       "<style scoped>\n",
       "    .dataframe tbody tr th:only-of-type {\n",
       "        vertical-align: middle;\n",
       "    }\n",
       "\n",
       "    .dataframe tbody tr th {\n",
       "        vertical-align: top;\n",
       "    }\n",
       "\n",
       "    .dataframe thead th {\n",
       "        text-align: right;\n",
       "    }\n",
       "</style>\n",
       "<table border=\"1\" class=\"dataframe\">\n",
       "  <thead>\n",
       "    <tr style=\"text-align: right;\">\n",
       "      <th></th>\n",
       "      <th>0</th>\n",
       "    </tr>\n",
       "  </thead>\n",
       "  <tbody>\n",
       "    <tr>\n",
       "      <th>0</th>\n",
       "      <td>versicolor</td>\n",
       "    </tr>\n",
       "    <tr>\n",
       "      <th>1</th>\n",
       "      <td>versicolor</td>\n",
       "    </tr>\n",
       "    <tr>\n",
       "      <th>2</th>\n",
       "      <td>virginica</td>\n",
       "    </tr>\n",
       "    <tr>\n",
       "      <th>3</th>\n",
       "      <td>versicolor</td>\n",
       "    </tr>\n",
       "    <tr>\n",
       "      <th>4</th>\n",
       "      <td>virginica</td>\n",
       "    </tr>\n",
       "    <tr>\n",
       "      <th>5</th>\n",
       "      <td>virginica</td>\n",
       "    </tr>\n",
       "    <tr>\n",
       "      <th>6</th>\n",
       "      <td>setosa</td>\n",
       "    </tr>\n",
       "    <tr>\n",
       "      <th>7</th>\n",
       "      <td>virginica</td>\n",
       "    </tr>\n",
       "    <tr>\n",
       "      <th>8</th>\n",
       "      <td>setosa</td>\n",
       "    </tr>\n",
       "    <tr>\n",
       "      <th>9</th>\n",
       "      <td>versicolor</td>\n",
       "    </tr>\n",
       "    <tr>\n",
       "      <th>10</th>\n",
       "      <td>virginica</td>\n",
       "    </tr>\n",
       "    <tr>\n",
       "      <th>11</th>\n",
       "      <td>setosa</td>\n",
       "    </tr>\n",
       "    <tr>\n",
       "      <th>12</th>\n",
       "      <td>setosa</td>\n",
       "    </tr>\n",
       "    <tr>\n",
       "      <th>13</th>\n",
       "      <td>virginica</td>\n",
       "    </tr>\n",
       "    <tr>\n",
       "      <th>14</th>\n",
       "      <td>versicolor</td>\n",
       "    </tr>\n",
       "    <tr>\n",
       "      <th>15</th>\n",
       "      <td>versicolor</td>\n",
       "    </tr>\n",
       "    <tr>\n",
       "      <th>16</th>\n",
       "      <td>setosa</td>\n",
       "    </tr>\n",
       "    <tr>\n",
       "      <th>17</th>\n",
       "      <td>versicolor</td>\n",
       "    </tr>\n",
       "    <tr>\n",
       "      <th>18</th>\n",
       "      <td>versicolor</td>\n",
       "    </tr>\n",
       "    <tr>\n",
       "      <th>19</th>\n",
       "      <td>virginica</td>\n",
       "    </tr>\n",
       "    <tr>\n",
       "      <th>20</th>\n",
       "      <td>setosa</td>\n",
       "    </tr>\n",
       "    <tr>\n",
       "      <th>21</th>\n",
       "      <td>virginica</td>\n",
       "    </tr>\n",
       "    <tr>\n",
       "      <th>22</th>\n",
       "      <td>virginica</td>\n",
       "    </tr>\n",
       "    <tr>\n",
       "      <th>23</th>\n",
       "      <td>versicolor</td>\n",
       "    </tr>\n",
       "    <tr>\n",
       "      <th>24</th>\n",
       "      <td>virginica</td>\n",
       "    </tr>\n",
       "    <tr>\n",
       "      <th>25</th>\n",
       "      <td>setosa</td>\n",
       "    </tr>\n",
       "    <tr>\n",
       "      <th>26</th>\n",
       "      <td>setosa</td>\n",
       "    </tr>\n",
       "    <tr>\n",
       "      <th>27</th>\n",
       "      <td>virginica</td>\n",
       "    </tr>\n",
       "    <tr>\n",
       "      <th>28</th>\n",
       "      <td>virginica</td>\n",
       "    </tr>\n",
       "    <tr>\n",
       "      <th>29</th>\n",
       "      <td>versicolor</td>\n",
       "    </tr>\n",
       "  </tbody>\n",
       "</table>\n",
       "</div>"
      ],
      "text/plain": [
       "             0\n",
       "0   versicolor\n",
       "1   versicolor\n",
       "2    virginica\n",
       "3   versicolor\n",
       "4    virginica\n",
       "5    virginica\n",
       "6       setosa\n",
       "7    virginica\n",
       "8       setosa\n",
       "9   versicolor\n",
       "10   virginica\n",
       "11      setosa\n",
       "12      setosa\n",
       "13   virginica\n",
       "14  versicolor\n",
       "15  versicolor\n",
       "16      setosa\n",
       "17  versicolor\n",
       "18  versicolor\n",
       "19   virginica\n",
       "20      setosa\n",
       "21   virginica\n",
       "22   virginica\n",
       "23  versicolor\n",
       "24   virginica\n",
       "25      setosa\n",
       "26      setosa\n",
       "27   virginica\n",
       "28   virginica\n",
       "29  versicolor"
      ]
     },
     "execution_count": 127,
     "metadata": {},
     "output_type": "execute_result"
    }
   ],
   "source": [
    "y_preds = pd.DataFrame(y_preds).replace({0:'setosa', 1:'versicolor', 2:'virginica'})\n",
    "\n",
    "y_preds"
   ]
  },
  {
   "cell_type": "code",
   "execution_count": 129,
   "id": "8209ee60",
   "metadata": {},
   "outputs": [
    {
     "name": "stdout",
     "output_type": "stream",
     "text": [
      "Accuracy Score:\n",
      "0.9\n"
     ]
    }
   ],
   "source": [
    "print('Accuracy Score:') \n",
    "print(metrics.accuracy_score(y_test, y_preds)) #스코어"
   ]
  },
  {
   "cell_type": "markdown",
   "id": "6efd8813",
   "metadata": {},
   "source": [
    "# Multiclass SVM 일반화"
   ]
  },
  {
   "cell_type": "code",
   "execution_count": 246,
   "id": "435adddc",
   "metadata": {},
   "outputs": [],
   "source": [
    "class MyOneVsRestClassifier:\n",
    "    def __init__(self, n_classes):\n",
    "        self.n_classes = n_classes\n",
    "        self.y_pred_list = []\n",
    "    \n",
    "    def predict(self, X_train, X_test, y_train, y_test, gamma = 5, C = 10):\n",
    "        for i in range(n_classes):\n",
    "            svc = SVC(kernel='rbf', gamma = gamma, C = C)\n",
    "            svc.fit(X_train, y_train.iloc[:, i])\n",
    "            self.y_pred_list.append(list(svc.predict(X_test)))\n",
    "        \n",
    "        class_prob = []\n",
    "        for i in range(n_classes):\n",
    "            class_prob.append(sum(self.y_pred_list[i])/len(y_test))\n",
    "        \n",
    "        y_pred = np.zeros(len(y_test), dtype=int)\n",
    "        pred_sum = sum(self.y_pred_list)\n",
    "        \n",
    "        for i in range(len(y_test)):\n",
    "            print(y_pred)\n",
    "            # 모두 1이거나 0일때, 등장 확률이 제일 높은 클래스로 선택\n",
    "#             pred_sum = np.array(self.y_pred_list).sum(axis=0)\n",
    "            if pred_sum[i] == int(0) or pred_sum[i] == self.n_classes:\n",
    "                y_preds[i] = np.argmax(class_prob)\n",
    "\n",
    "            if pred_sum[i] != 1:\n",
    "                # 결과가 0으로 나온 클래스 제외, 등장 확률이 높은 클래스로 선택\n",
    "                tmp = class_prob.copy()\n",
    "                for i in range(n_classes - pred_sum[i]):\n",
    "                    tmp.pop(y_pred.index(0))\n",
    "                y_preds[i] = np.argmax(tmp)\n",
    "            \n",
    "            # 1이 하나일때\n",
    "            else:\n",
    "                y_preds[i] = np.argmax(y_pred)\n",
    "        \n",
    "        return y_preds"
   ]
  },
  {
   "cell_type": "code",
   "execution_count": 288,
   "id": "4be030bf",
   "metadata": {},
   "outputs": [],
   "source": [
    "class MyOneVsRestClassifier:\n",
    "    def __init__(self, n_classes):\n",
    "        self.n_classes = n_classes\n",
    "        self.y_pred_list = []\n",
    "    \n",
    "    def predict(self, X_train, X_test, y_train, y_test, gamma = 5, C = 10):\n",
    "        for i in range(n_classes):\n",
    "            svc = SVC(kernel='rbf', gamma = gamma, C = C)\n",
    "            svc.fit(X_train, y_train.iloc[:, i])\n",
    "            self.y_pred_list.append(svc.predict(X_test))\n",
    "        \n",
    "        class_prob = []\n",
    "        for i in range(n_classes):\n",
    "            class_prob.append(sum(self.y_pred_list[i])/len(y_test))\n",
    "        \n",
    "        y_preds = np.zeros(len(y_test), dtype=int)\n",
    "        for i in range(len(y_test)):\n",
    "            y_pred = []\n",
    "            for j in range(self.n_classes):\n",
    "                y_pred.append(self.y_pred_list[j][i])\n",
    "                \n",
    "            # 모두 1이거나 0일때, 등장 확률이 제일 높은 클래스로 선택\n",
    "            pred_sum = sum(y_pred)\n",
    "            if pred_sum == 0 or pred_sum == self.n_classes:\n",
    "                y_preds[i] = np.argmax(class_prob)\n",
    "\n",
    "            elif pred_sum != 1:\n",
    "                # 결과가 0으로 나온 클래스 제외, 등장 확률이 높은 클래스로 선택\n",
    "                tmp = class_prob.copy()\n",
    "                for i in range(n_classes - pred_sum):\n",
    "                    tmp.pop(y_pred.index(0))\n",
    "                y_preds[i] = np.argmax(tmp)\n",
    "            \n",
    "            # 1이 하나일때\n",
    "            else:\n",
    "                y_preds[i] = np.argmax(y_pred)\n",
    "        \n",
    "        return y_preds"
   ]
  },
  {
   "cell_type": "code",
   "execution_count": 289,
   "id": "ff2baa38",
   "metadata": {},
   "outputs": [
    {
     "data": {
      "text/plain": [
       "array([1, 1, 1, 2, 2, 2, 0, 2, 0, 1, 2, 0, 0, 2, 1, 1, 0, 2, 2, 2, 0, 2,\n",
       "       1, 1, 2, 0, 0, 2, 2, 1])"
      ]
     },
     "execution_count": 289,
     "metadata": {},
     "output_type": "execute_result"
    }
   ],
   "source": [
    "# 클래스 수\n",
    "n_classes = 3\n",
    "OVRClassifier = MyOneVsRestClassifier(n_classes)\n",
    "\n",
    "y_pred = OVRClassifier.predict(X_train_s, X_test_s, y_train_s, y_test_s)\n",
    "y_pred"
   ]
  },
  {
   "cell_type": "code",
   "execution_count": 292,
   "id": "e280b620",
   "metadata": {},
   "outputs": [
    {
     "data": {
      "text/plain": [
       "96     versicolor\n",
       "73     versicolor\n",
       "134     virginica\n",
       "41         setosa\n",
       "70     versicolor\n",
       "116     virginica\n",
       "19         setosa\n",
       "138     virginica\n",
       "33         setosa\n",
       "89     versicolor\n",
       "137     virginica\n",
       "36         setosa\n",
       "20         setosa\n",
       "126     virginica\n",
       "87     versicolor\n",
       "56     versicolor\n",
       "11         setosa\n",
       "62     versicolor\n",
       "72     versicolor\n",
       "120     virginica\n",
       "8          setosa\n",
       "147     virginica\n",
       "77     versicolor\n",
       "86     versicolor\n",
       "129     virginica\n",
       "4          setosa\n",
       "31         setosa\n",
       "136     virginica\n",
       "132     virginica\n",
       "88     versicolor\n",
       "Name: species, dtype: object"
      ]
     },
     "execution_count": 292,
     "metadata": {},
     "output_type": "execute_result"
    }
   ],
   "source": [
    "y_test"
   ]
  },
  {
   "cell_type": "code",
   "execution_count": 290,
   "id": "3795e3c5",
   "metadata": {},
   "outputs": [],
   "source": [
    "y_pred = pd.DataFrame(y_pred).replace({0:'setosa', 1:'versicolor', 2:'virginica'})"
   ]
  },
  {
   "cell_type": "code",
   "execution_count": 291,
   "id": "e4b89564",
   "metadata": {},
   "outputs": [
    {
     "name": "stdout",
     "output_type": "stream",
     "text": [
      "Accuracy Score:\n",
      "0.8333333333333334\n"
     ]
    }
   ],
   "source": [
    "print('Accuracy Score:') \n",
    "print(metrics.accuracy_score(y_test, y_pred)) #스코어"
   ]
  }
 ],
 "metadata": {
  "kernelspec": {
   "display_name": "Python 3 (ipykernel)",
   "language": "python",
   "name": "python3"
  },
  "language_info": {
   "codemirror_mode": {
    "name": "ipython",
    "version": 3
   },
   "file_extension": ".py",
   "mimetype": "text/x-python",
   "name": "python",
   "nbconvert_exporter": "python",
   "pygments_lexer": "ipython3",
   "version": "3.7.15"
  },
  "toc": {
   "base_numbering": 1,
   "nav_menu": {},
   "number_sections": false,
   "sideBar": true,
   "skip_h1_title": false,
   "title_cell": "Table of Contents",
   "title_sidebar": "Contents",
   "toc_cell": false,
   "toc_position": {},
   "toc_section_display": true,
   "toc_window_display": false
  },
  "varInspector": {
   "cols": {
    "lenName": 16,
    "lenType": 16,
    "lenVar": 40
   },
   "kernels_config": {
    "python": {
     "delete_cmd_postfix": "",
     "delete_cmd_prefix": "del ",
     "library": "var_list.py",
     "varRefreshCmd": "print(var_dic_list())"
    },
    "r": {
     "delete_cmd_postfix": ") ",
     "delete_cmd_prefix": "rm(",
     "library": "var_list.r",
     "varRefreshCmd": "cat(var_dic_list()) "
    }
   },
   "types_to_exclude": [
    "module",
    "function",
    "builtin_function_or_method",
    "instance",
    "_Feature"
   ],
   "window_display": false
  }
 },
 "nbformat": 4,
 "nbformat_minor": 5
}
