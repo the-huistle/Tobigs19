{
 "cells": [
  {
   "cell_type": "markdown",
   "metadata": {},
   "source": [
    "['DACON 자율주행 센서의 안테나 성능 예측 AI 경진대회' 원본 코드) [Private_39위] lightgbm+random forest+xgboost](https://dacon.io/competitions/official/235927/codeshare/6651?page=1&dtype=recent)"
   ]
  },
  {
   "cell_type": "code",
   "execution_count": 12,
   "metadata": {
    "id": "BANoEhcwZWpR"
   },
   "outputs": [],
   "source": [
    "import numpy as np\n",
    "import pandas as pd\n",
    "import matplotlib\n",
    "import matplotlib.pyplot as plt\n",
    "import sklearn\n",
    "import sys\n",
    "import seaborn as sns\n",
    "import random as rn\n",
    "import os\n",
    "import scipy.stats as stats\n",
    "from sklearn.preprocessing import LabelEncoder\n",
    "from sklearn.preprocessing import OneHotEncoder\n",
    "\n",
    "from sklearn.model_selection import GridSearchCV, cross_val_score, RepeatedKFold\n",
    "from sklearn import metrics\n",
    "\n",
    "from sklearn.linear_model import ElasticNet\n",
    "from xgboost import XGBRegressor\n",
    "from lightgbm import LGBMRegressor\n",
    "from catboost import CatBoostRegressor\n",
    "from sklearn.ensemble import RandomForestRegressor, ExtraTreesRegressor\n",
    "from mlxtend.regressor import StackingCVRegressor\n",
    "from sklearn.multioutput import MultiOutputRegressor\n",
    "\n",
    "from collections import Counter\n",
    "from flaml import AutoML\n",
    "\n",
    "import warnings\n",
    "%matplotlib inline\n",
    "warnings.filterwarnings(action='ignore')\n",
    "# %cd '/content/drive/MyDrive/Autonomous_driving_antenna/'"
   ]
  },
  {
   "cell_type": "code",
   "execution_count": null,
   "metadata": {},
   "outputs": [],
   "source": [
    "# reproducibility\n",
    "def set_seed(seed_num):\n",
    "    # tf.random.set_seed(seed_num)\n",
    "    np.random.seed(seed_num)\n",
    "    rn.seed(seed_num)\n",
    "    os.environ['PYTHONHASHSEED']=str(seed_num)\n",
    "\n",
    "seed_num = 42\n",
    "set_seed(seed_num)"
   ]
  },
  {
   "cell_type": "code",
   "execution_count": null,
   "metadata": {},
   "outputs": [],
   "source": [
    "train = pd.read_csv('dataset/train.csv')\n",
    "train_x_df = train.filter(regex='X')   # input\n",
    "train_y_df = train.filter(regex='Y')   # output\n",
    "\n",
    "print(train_x_df.shape, train_y_df.shape)\n",
    "print(train_x_df.isnull().sum())\n",
    "print(train_y_df.isnull().sum())"
   ]
  },
  {
   "cell_type": "code",
   "execution_count": null,
   "metadata": {},
   "outputs": [],
   "source": [
    "\n",
    "train_x = np.array(train_x_df)\n",
    "train_y = np.array(train_y_df)\n",
    "\n",
    "print(train_x.shape, train_y.shape)\n",
    "\n",
    "# MODEL_TIME_BUDGET = 60*5\n",
    "# MODEL_METRIC = 'rmse'\n",
    "# MODEL_TASK = \"regression\"\n",
    "# MODEL_LIST = [\"lgbm\"]\n",
    "\n",
    "# params = {\n",
    "#     \"time_budget\": MODEL_TIME_BUDGET,  \n",
    "#     \"metric\": MODEL_METRIC,\n",
    "#     \"estimator_list\": MODEL_LIST, \n",
    "#     \"task\": MODEL_TASK,\n",
    "#     \"seed\":seed_num,\n",
    "# }\n",
    "\n",
    "# auto_lgbm = MultiOutputRegressor(AutoML(**params))\n",
    "# auto_lgbm.fit(train_x, train_y)\n",
    "\n",
    "# MODEL_TIME_BUDGET = 60*5\n",
    "# MODEL_METRIC = 'rmse'\n",
    "# MODEL_TASK = \"regression\"\n",
    "# MODEL_LIST = [\"xgboost\"]\n",
    "\n",
    "# params = {\n",
    "#     \"time_budget\": MODEL_TIME_BUDGET,  \n",
    "#     \"metric\": MODEL_METRIC,\n",
    "#     \"estimator_list\": MODEL_LIST, \n",
    "#     \"task\": MODEL_TASK,\n",
    "#     \"seed\":seed_num,\n",
    "# }\n",
    "\n",
    "# auto_xgb = MultiOutputRegressor(AutoML(**params))\n",
    "# auto_xgb.fit(train_x, train_y)\n",
    "\n",
    "# MODEL_TIME_BUDGET = 60*5\n",
    "# MODEL_METRIC = 'rmse'\n",
    "# MODEL_TASK = \"regression\"\n",
    "# MODEL_LIST = [\"rf\"]\n",
    "\n",
    "# params = {\n",
    "#     \"time_budget\": MODEL_TIME_BUDGET,  \n",
    "#     \"metric\": MODEL_METRIC,\n",
    "#     \"estimator_list\": MODEL_LIST, \n",
    "#     \"task\": MODEL_TASK,\n",
    "#     \"seed\":seed_num,\n",
    "# }\n",
    "\n",
    "# auto_rf = MultiOutputRegressor(AutoML(**params))\n",
    "# auto_rf.fit(train_x, train_y)\n",
    "\n",
    "lightgbm = MultiOutputRegressor(LGBMRegressor(colsample_bytree=0.5263478696871312,\n",
    "              learning_rate=0.01522625637146587, max_bin=1023,\n",
    "              min_child_samples=23, n_estimators=2950, num_leaves=434,\n",
    "              reg_alpha=0.013442380441791843, reg_lambda=0.0440062359548784, seed = seed_num,\n",
    "              verbose=-1))\n",
    "\n",
    "lightgbm.fit(train_x, train_y)\n",
    "\n",
    "xgboost = MultiOutputRegressor(XGBRegressor(colsample_bylevel=0.4192302659044743,\n",
    "             colsample_bytree=0.7180716573534248, grow_policy='lossguide',\n",
    "             learning_rate=0.013198731967539607, max_depth=0, max_leaves=140,\n",
    "             min_child_weight=35.072279762160896, n_estimators=803, n_jobs=-1,\n",
    "             reg_alpha=0.0009765625, reg_lambda=0.6342055478585719,\n",
    "             subsample=0.827351358517848, tree_method='hist', seed = seed_num,\n",
    "             use_label_encoder=False, verbosity=0))\n",
    "\n",
    "xgboost.fit(train_x, train_y)\n",
    "\n",
    "rf = MultiOutputRegressor(RandomForestRegressor(max_features=0.6347607006852164, max_leaf_nodes=1608,\n",
    "                      n_estimators=136, n_jobs=-1, random_state = seed_num))\n",
    "\n",
    "rf.fit(train_x, train_y)\n",
    "\n",
    "test_df = pd.read_csv('dataset/test.csv')\n",
    "\n",
    "print(test_df.shape)\n",
    "test_x = np.array(test_df.drop(columns=['ID']))\n",
    "\n",
    "lgb_p = lightgbm.predict(test_x)\n",
    "xgb_p = xgboost.predict(test_x)\n",
    "rf_p = rf.predict(test_x)\n",
    "\n",
    "prediction = (lgb_p + xgb_p  + rf_p)/3\n",
    "print(np.shape(prediction))\n",
    "\n",
    "submit = pd.read_csv('dataset/sample_submission.csv')\n",
    "for idx, col in enumerate(submit.columns):\n",
    "    if col=='ID':\n",
    "        continue\n",
    "    submit[col] = prediction[:,idx-1]\n",
    "\n",
    "submit.to_csv('submissions.csv', index=False)    "
   ]
  },
  {
   "cell_type": "code",
   "execution_count": null,
   "metadata": {},
   "outputs": [],
   "source": []
  },
  {
   "cell_type": "code",
   "execution_count": null,
   "metadata": {},
   "outputs": [],
   "source": []
  },
  {
   "cell_type": "code",
   "execution_count": null,
   "metadata": {},
   "outputs": [],
   "source": []
  },
  {
   "cell_type": "code",
   "execution_count": null,
   "metadata": {},
   "outputs": [],
   "source": []
  }
 ],
 "metadata": {
  "accelerator": "GPU",
  "colab": {
   "authorship_tag": "ABX9TyO3X3tJmlE9N6kk4HYQpRL/",
   "collapsed_sections": [],
   "provenance": []
  },
  "gpuClass": "standard",
  "kernelspec": {
   "display_name": "Python 3 (ipykernel)",
   "language": "python",
   "name": "python3"
  },
  "language_info": {
   "codemirror_mode": {
    "name": "ipython",
    "version": 3
   },
   "file_extension": ".py",
   "mimetype": "text/x-python",
   "name": "python",
   "nbconvert_exporter": "python",
   "pygments_lexer": "ipython3",
   "version": "3.7.15"
  },
  "toc": {
   "base_numbering": 1,
   "nav_menu": {},
   "number_sections": false,
   "sideBar": true,
   "skip_h1_title": false,
   "title_cell": "Table of Contents",
   "title_sidebar": "Contents",
   "toc_cell": false,
   "toc_position": {},
   "toc_section_display": true,
   "toc_window_display": false
  },
  "varInspector": {
   "cols": {
    "lenName": 16,
    "lenType": 16,
    "lenVar": 40
   },
   "kernels_config": {
    "python": {
     "delete_cmd_postfix": "",
     "delete_cmd_prefix": "del ",
     "library": "var_list.py",
     "varRefreshCmd": "print(var_dic_list())"
    },
    "r": {
     "delete_cmd_postfix": ") ",
     "delete_cmd_prefix": "rm(",
     "library": "var_list.r",
     "varRefreshCmd": "cat(var_dic_list()) "
    }
   },
   "types_to_exclude": [
    "module",
    "function",
    "builtin_function_or_method",
    "instance",
    "_Feature"
   ],
   "window_display": false
  }
 },
 "nbformat": 4,
 "nbformat_minor": 1
}
